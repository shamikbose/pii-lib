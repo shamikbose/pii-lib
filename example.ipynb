{
 "cells": [
  {
   "cell_type": "markdown",
   "id": "bce5cb53",
   "metadata": {},
   "source": [
    "### Example for running PII detection and anonymization"
   ]
  },
  {
   "cell_type": "code",
   "execution_count": 1,
   "id": "4b66801c",
   "metadata": {},
   "outputs": [
    {
     "name": "stderr",
     "output_type": "stream",
     "text": [
      "c:\\Anaconda2\\envs\\pii_detection\\lib\\site-packages\\tqdm\\auto.py:22: TqdmWarning: IProgress not found. Please update jupyter and ipywidgets. See https://ipywidgets.readthedocs.io/en/stable/user_install.html\n",
      "  from .autonotebook import tqdm as notebook_tqdm\n",
      "Using custom data configuration bigcode--pii-for-code-7a1ee30e94a796d0\n",
      "Found cached dataset json (C:/Users/Shamik Bose/.cache/huggingface/datasets/bigcode___json/bigcode--pii-for-code-7a1ee30e94a796d0/0.0.0/e6070c77f18f01a5ad4551a8b7edfba20b8438b7cad4d94e6ad9378022ce4aab)\n"
     ]
    }
   ],
   "source": [
    "from datasets import load_dataset\n",
    "\n",
    "from pii_detection import scan_pii_batch\n",
    "from pii_redaction import redact_pii_batch, random_replacements\n",
    "\n",
    "ds = load_dataset(\"bigcode/pii-for-code\", split=\"train[:10%]\")"
   ]
  },
  {
   "cell_type": "code",
   "execution_count": 2,
   "id": "f76c9e5f",
   "metadata": {},
   "outputs": [
    {
     "name": "stderr",
     "output_type": "stream",
     "text": [
      "Loading cached processed dataset at C:/Users/Shamik Bose/.cache/huggingface/datasets/bigcode___json/bigcode--pii-for-code-7a1ee30e94a796d0/0.0.0/e6070c77f18f01a5ad4551a8b7edfba20b8438b7cad4d94e6ad9378022ce4aab\\cache-86c82f00065c36c4.arrow\n",
      "Loading cached processed dataset at C:/Users/Shamik Bose/.cache/huggingface/datasets/bigcode___json/bigcode--pii-for-code-7a1ee30e94a796d0/0.0.0/e6070c77f18f01a5ad4551a8b7edfba20b8438b7cad4d94e6ad9378022ce4aab\\cache-d4ffbf58fe37261d.arrow\n",
      "Loading cached processed dataset at C:/Users/Shamik Bose/.cache/huggingface/datasets/bigcode___json/bigcode--pii-for-code-7a1ee30e94a796d0/0.0.0/e6070c77f18f01a5ad4551a8b7edfba20b8438b7cad4d94e6ad9378022ce4aab\\cache-49192ae13a404052.arrow\n",
      "Loading cached processed dataset at C:/Users/Shamik Bose/.cache/huggingface/datasets/bigcode___json/bigcode--pii-for-code-7a1ee30e94a796d0/0.0.0/e6070c77f18f01a5ad4551a8b7edfba20b8438b7cad4d94e6ad9378022ce4aab\\cache-eb37d2e852ba5863.arrow\n",
      "Loading cached processed dataset at C:/Users/Shamik Bose/.cache/huggingface/datasets/bigcode___json/bigcode--pii-for-code-7a1ee30e94a796d0/0.0.0/e6070c77f18f01a5ad4551a8b7edfba20b8438b7cad4d94e6ad9378022ce4aab\\cache-7029a27992eeeaec.arrow\n",
      "Loading cached processed dataset at C:/Users/Shamik Bose/.cache/huggingface/datasets/bigcode___json/bigcode--pii-for-code-7a1ee30e94a796d0/0.0.0/e6070c77f18f01a5ad4551a8b7edfba20b8438b7cad4d94e6ad9378022ce4aab\\cache-5871deae10cea9e4.arrow\n",
      "Loading cached processed dataset at C:/Users/Shamik Bose/.cache/huggingface/datasets/bigcode___json/bigcode--pii-for-code-7a1ee30e94a796d0/0.0.0/e6070c77f18f01a5ad4551a8b7edfba20b8438b7cad4d94e6ad9378022ce4aab\\cache-2610e88478903a22.arrow\n",
      "Loading cached processed dataset at C:/Users/Shamik Bose/.cache/huggingface/datasets/bigcode___json/bigcode--pii-for-code-7a1ee30e94a796d0/0.0.0/e6070c77f18f01a5ad4551a8b7edfba20b8438b7cad4d94e6ad9378022ce4aab\\cache-1818d54aee7ac01f.arrow\n",
      "Loading cached processed dataset at C:/Users/Shamik Bose/.cache/huggingface/datasets/bigcode___json/bigcode--pii-for-code-7a1ee30e94a796d0/0.0.0/e6070c77f18f01a5ad4551a8b7edfba20b8438b7cad4d94e6ad9378022ce4aab\\cache-80598ab2bc31de56.arrow\n",
      "Loading cached processed dataset at C:/Users/Shamik Bose/.cache/huggingface/datasets/bigcode___json/bigcode--pii-for-code-7a1ee30e94a796d0/0.0.0/e6070c77f18f01a5ad4551a8b7edfba20b8438b7cad4d94e6ad9378022ce4aab\\cache-7fbf3f01aa251b3f.arrow\n",
      "Loading cached processed dataset at C:/Users/Shamik Bose/.cache/huggingface/datasets/bigcode___json/bigcode--pii-for-code-7a1ee30e94a796d0/0.0.0/e6070c77f18f01a5ad4551a8b7edfba20b8438b7cad4d94e6ad9378022ce4aab\\cache-6498b22b15f6cbdb.arrow\n",
      "Loading cached processed dataset at C:/Users/Shamik Bose/.cache/huggingface/datasets/bigcode___json/bigcode--pii-for-code-7a1ee30e94a796d0/0.0.0/e6070c77f18f01a5ad4551a8b7edfba20b8438b7cad4d94e6ad9378022ce4aab\\cache-03cf0c672eeaa59b.arrow\n"
     ]
    }
   ],
   "source": [
    "ds_pii = ds.map(scan_pii_batch, batched=True, batch_size=100, num_proc=12)"
   ]
  },
  {
   "cell_type": "code",
   "execution_count": 3,
   "id": "06d15f83",
   "metadata": {},
   "outputs": [
    {
     "name": "stdout",
     "output_type": "stream",
     "text": [
      "Dataset after PII detection:\n",
      "Dataset({\n",
      "    features: ['content', 'language', 'license', 'path', 'annotation_id', 'pii', 'pii_modified', 'id', 'secrets', 'has_secrets', 'number_secrets'],\n",
      "    num_rows: 40\n",
      "})\n",
      "Number of samples that contained PII: 20\n",
      "Total number of secrets found: 33\n"
     ]
    }
   ],
   "source": [
    "print(f\"Dataset after PII detection:\\n{ds_pii}\")\n",
    "print(f\"Number of samples that contained PII: {sum(ds_pii['has_secrets'])}\")\n",
    "print(f\"Total number of secrets found: {sum(ds_pii['number_secrets'])}\")"
   ]
  },
  {
   "cell_type": "code",
   "execution_count": 7,
   "id": "e6e783db",
   "metadata": {},
   "outputs": [
    {
     "name": "stdout",
     "output_type": "stream",
     "text": [
      "['[{\"tag\": \"EMAIL\", \"value\": \"davis@dlib.net\", \"start\": 38, \"end\": 52}]', '[]', '[{\"tag\": \"EMAIL\", \"value\": \"intersight@cisco.com\", \"start\": 1797, \"end\": 1817}]', '[{\"tag\": \"EMAIL\", \"value\": \"nugetvss@microsoft.com\", \"start\": 421, \"end\": 443}]', '[]', '[{\"tag\": \"EMAIL\", \"value\": \"info@srampos.com\", \"start\": 195, \"end\": 211}]', '[]', '[{\"tag\": \"EMAIL\", \"value\": \"liu21st@gmail.com\", \"start\": 503, \"end\": 520}]', '[]', '[{\"tag\": \"EMAIL\", \"value\": \"beat-kueng@gmx.net\", \"start\": 1820, \"end\": 1838}]', '[{\"tag\": \"EMAIL\", \"value\": \"porten@kde.org\", \"start\": 606, \"end\": 620}, {\"tag\": \"EMAIL\", \"value\": \"pmk@post.com\", \"start\": 658, \"end\": 670}, {\"tag\": \"EMAIL\", \"value\": \"cwzwarich@uwaterloo.ca\", \"start\": 803, \"end\": 825}]', '[]', '[{\"tag\": \"EMAIL\", \"value\": \"kohsuke.kawaguchi@sun.com\", \"start\": 1766, \"end\": 1791}]', '[{\"tag\": \"EMAIL\", \"value\": \"will@thames.id.au\", \"start\": 62, \"end\": 79}]', '[]', '[{\"tag\": \"EMAIL\", \"value\": \"andreas@wellenvogel.net\", \"start\": 172, \"end\": 195}]', '[{\"tag\": \"IP_ADDRESS\", \"value\": \"72.44.36.12\", \"start\": 1193, \"end\": 1204}, {\"tag\": \"IP_ADDRESS\", \"value\": \"72.44.36.12\", \"start\": 1289, \"end\": 1300}, {\"tag\": \"IP_ADDRESS\", \"value\": \"72.44.36.12\", \"start\": 1336, \"end\": 1347}]', '[{\"tag\": \"EMAIL\", \"value\": \"test.satou@example.com\", \"start\": 1338, \"end\": 1360}]', '[]', '[]', '[]', '[{\"tag\": \"EMAIL\", \"value\": \"nicolas.george@normalesup.org\", \"start\": 41, \"end\": 70}]', '[{\"tag\": \"IP_ADDRESS\", \"value\": \"255.255.255.255\", \"start\": 2035, \"end\": 2050}, {\"tag\": \"IP_ADDRESS\", \"value\": \"255.255.255.0\", \"start\": 5059, \"end\": 5072}]', '[{\"tag\": \"EMAIL\", \"value\": \"user@test.com\", \"start\": 797, \"end\": 810}, {\"tag\": \"EMAIL\", \"value\": \"user@test.com\", \"start\": 936, \"end\": 949}, {\"tag\": \"EMAIL\", \"value\": \"user1@test.com\", \"start\": 1086, \"end\": 1100}, {\"tag\": \"EMAIL\", \"value\": \"user1@test.com\", \"start\": 1240, \"end\": 1254}]', '[]', '[{\"tag\": \"EMAIL\", \"value\": \"jfinal@126.com\", \"start\": 48, \"end\": 62}]', '[]', '[{\"tag\": \"IP_ADDRESS\", \"value\": \"0.0.0.0\", \"start\": 163, \"end\": 170}, {\"tag\": \"IP_ADDRESS\", \"value\": \"162.243.201.175\", \"start\": 571, \"end\": 586}, {\"tag\": \"KEY\", \"value\": \"eyJhbGciOiJIUzI1NiIsInR5cCI6IkpXVCJ9.eyJpZCI6IjU5ODFmMTY3MjEyYjM0OGFlZDdmYTlmNSIsInNjb3BlIjpbImFkbWluIiwiZXZlbnRfbWFuYWdlciIsImV2ZW50X2xvZ2dlciIsImV2ZW50X3dhdGNoZXIiXSwiaWF0IjoxNTI1MDE0NDE3fQ.\", \"start\": 276, \"end\": 468}, {\"tag\": \"KEY\", \"value\": \"eyJhbGciOiJIUzI1NiIsInR5cCI6IkpXVCJ9.eyJpZCI6IjU5ODFmMTY3MjEyYjM0OGFlZDdmYTlmNSIsInNjb3BlIjpbImFkbWluIiwiZXZlbnRfbWFuYWdlciIsImV2ZW50X2xvZ2dlciIsImV2ZW50X3dhdGNoZXIiXSwiaWF0IjoxNTI1MDEzNTUxfQ.\", \"start\": 694, \"end\": 886}]', '[]', '[{\"tag\": \"EMAIL\", \"value\": \"david@reciprocitylabs.com\", \"start\": 172, \"end\": 197}, {\"tag\": \"EMAIL\", \"value\": \"david@reciprocitylabs.com\", \"start\": 215, \"end\": 240}]', '[{\"tag\": \"EMAIL\", \"value\": \"f.miir117@gmail.com\", \"start\": 30, \"end\": 49}]', '[]', '[]', '[]', '[{\"tag\": \"KEY\", \"value\": \"ABCDEFGHIJKLMNabcdefghijklmnopqrstuvwxyz0123456789\", \"start\": 795, \"end\": 845}, {\"tag\": \"KEY\", \"value\": \"abcdefghijklmnopqrstuvwxyzABCDEFGHIJKLMN0123456789\", \"start\": 719, \"end\": 769}]', '[]', '[]', '[]', '[]', '[]']\n"
     ]
    }
   ],
   "source": [
    "print(ds_pii[:]['secrets'])\n"
   ]
  },
  {
   "cell_type": "code",
   "execution_count": 5,
   "id": "c99b2bd4",
   "metadata": {},
   "outputs": [
    {
     "data": {
      "text/plain": [
       "[1, 0, 0, 0, 2, 0, 0, 0, 0, 0]"
      ]
     },
     "execution_count": 5,
     "metadata": {},
     "output_type": "execute_result"
    }
   ],
   "source": [
    "ds_pii[-10:][\"number_secrets\"]"
   ]
  },
  {
   "cell_type": "markdown",
   "id": "b54c5044",
   "metadata": {},
   "source": [
    "#### About the detection and anonymization:\n",
    "* we detect secret keys with detect-secrets and mask them with keys from these 4 randomly generated sequences -they can change in each execution on a new dataset-: \n",
    "        ```\n",
    "        ['q8jtgev49gw1un9427qd9afza5vpuemo',\n",
    "        'pj82ffu65gt9sh9v8n9s2fyupslmlcq4',\n",
    "        'efijcf8z7r7pn0r25wfuh5vmpbrhoxkv',\n",
    "        '1dgjoc8ebhmhzfxhcbmlh4ndb81gqeoe']\n",
    "        ```\n",
    "        \n",
    "* we detect email addresses and mask them with one of these 4 emails (first part was randomly generated) -they can change in each execution on a new dataset-:\n",
    "        ```\n",
    "        ['mynbi@email.com',\n",
    "        'qpmzj@email.com',\n",
    "        'plsgq@email.com',\n",
    "        'ejeyd@email.com']\n",
    "        ```\n",
    "\n",
    "* we detect IP addresses (and DNS servers) and mask them with the random private addresses below (they are fixed). Note that private IP addresses aren't masked (we use `ipaddress` python library to determine if they are private or not):\n",
    "```\n",
    "{'IPv4': ['172.16.31.10',\n",
    "        '172.16.58.3',\n",
    "        '192.168.127.12',\n",
    "        '192.168.3.11'],\n",
    "'IPv6': ['fd00:c2b6:b24b:be67:2827:688d:e6a1:6a3b',\n",
    "                'fc00:e968:6179::de52:7100',\n",
    "                'fc00:db20:35b:7399::5',\n",
    "                'fdf8:f53e:61e4::18']},\n",
    "```\n",
    "\n",
    "Remarks:\n",
    "* If the same secret appears multiple times in a file, we use the same replacement each time.\n",
    "* To solve issue with dns servers being versions, we only detect an address in format x.x.x.x where x is one digit, if the words \"dns\" or \"sever\" appear in the near context."
   ]
  },
  {
   "cell_type": "code",
   "execution_count": 49,
   "id": "68669831",
   "metadata": {},
   "outputs": [
    {
     "name": "stdout",
     "output_type": "stream",
     "text": [
      "{'EMAIL': ['mynbi@email.com',\n",
      "           'qpmzj@email.com',\n",
      "           'plsgq@email.com',\n",
      "           'ejeyd@email.com'],\n",
      " 'IP_ADDRESS': {'IPv4': ['172.16.31.10',\n",
      "                         '172.16.58.3',\n",
      "                         '192.168.127.12',\n",
      "                         '192.168.3.11'],\n",
      "                'IPv6': ['fd00:c2b6:b24b:be67:2827:688d:e6a1:6a3b',\n",
      "                         'fc00:e968:6179::de52:7100',\n",
      "                         'fc00:db20:35b:7399::5',\n",
      "                         'fdf8:f53e:61e4::18']},\n",
      " 'KEY': ['q8jtgev49gw1un9427qd9afza5vpuemo',\n",
      "         'pj82ffu65gt9sh9v8n9s2fyupslmlcq4',\n",
      "         'efijcf8z7r7pn0r25wfuh5vmpbrhoxkv',\n",
      "         '1dgjoc8ebhmhzfxhcbmlh4ndb81gqeoe']}\n"
     ]
    }
   ],
   "source": [
    "# redaction\n",
    "import random\n",
    "from pprint import pprint\n",
    "random.seed(0)\n",
    "\n",
    "replacements = random_replacements()\n",
    "pprint(replacements)\n",
    "ds_redacted = ds_pii.map(lambda x: redact_pii_batch(x, replacements), batched=True, batch_size=100, num_proc=12, load_from_cache_file=False)"
   ]
  },
  {
   "cell_type": "code",
   "execution_count": 9,
   "id": "e060ed7e",
   "metadata": {},
   "outputs": [
    {
     "data": {
      "text/plain": [
       "Dataset({\n",
       "    features: ['content', 'language', 'license', 'path', 'annotation_id', 'pii', 'pii_modified', 'id', 'secrets', 'has_secrets', 'number_secrets', 'new_content', 'redaction_refs'],\n",
       "    num_rows: 400\n",
       "})"
      ]
     },
     "execution_count": 9,
     "metadata": {},
     "output_type": "execute_result"
    }
   ],
   "source": [
    "ds_redacted"
   ]
  },
  {
   "cell_type": "code",
   "execution_count": null,
   "id": "294a9083",
   "metadata": {},
   "outputs": [],
   "source": [
    "import json\n",
    "\n",
    "for e in ds_redacted:\n",
    "    secrets = json.loads(e[\"secrets\"])\n",
    "    if len(secrets) >= 3:\n",
    "        print(e[\"id\"])"
   ]
  },
  {
   "cell_type": "markdown",
   "id": "259f9759",
   "metadata": {},
   "source": [
    "example 16"
   ]
  },
  {
   "cell_type": "code",
   "execution_count": null,
   "id": "d5a37524",
   "metadata": {},
   "outputs": [],
   "source": [
    "ds_redacted[16][\"secrets\"]"
   ]
  },
  {
   "cell_type": "code",
   "execution_count": null,
   "id": "04f7e74d",
   "metadata": {},
   "outputs": [],
   "source": [
    "print(\"Old text:\")\n",
    "print(ds_redacted[16][\"content\"][1190:1500])"
   ]
  },
  {
   "cell_type": "code",
   "execution_count": null,
   "id": "470bf3aa",
   "metadata": {},
   "outputs": [],
   "source": [
    "print(\"New text:\")\n",
    "print(ds_redacted[16][\"new_content\"][1190:1500])"
   ]
  },
  {
   "cell_type": "code",
   "execution_count": null,
   "id": "897b7ebf",
   "metadata": {},
   "outputs": [],
   "source": [
    "print(\"New text with delimietrs (for visualization in a space):\")\n",
    "print(ds_redacted[16][\"redaction_refs\"][1190:1500])"
   ]
  },
  {
   "cell_type": "markdown",
   "id": "39e051da",
   "metadata": {},
   "source": [
    "example 27"
   ]
  },
  {
   "cell_type": "code",
   "execution_count": null,
   "id": "c129f763",
   "metadata": {},
   "outputs": [],
   "source": [
    "ds_redacted[27][\"secrets\"]"
   ]
  },
  {
   "cell_type": "code",
   "execution_count": null,
   "id": "35977e2c",
   "metadata": {},
   "outputs": [],
   "source": [
    "print(\"Old text:\")\n",
    "# we don't replace private Ips like 0.0.0.0\n",
    "print(ds_redacted[27][\"content\"][150:250])\n",
    "\n",
    "print(\"\\nNew text:\")\n",
    "print(ds_redacted[27][\"new_content\"][150:250])"
   ]
  },
  {
   "cell_type": "code",
   "execution_count": null,
   "id": "d081f2ea",
   "metadata": {},
   "outputs": [],
   "source": [
    "print(\"Old text:\")\n",
    "print(ds_redacted[27][\"content\"][270:670])\n",
    "\n",
    "print(\"\\nNew text:\")\n",
    "# here the first part of the key was detected and replaced with pj82ffu65gt9sh9v8n9s2fyupslmlcq\n",
    "print(ds_redacted[27][\"new_content\"][270:470])"
   ]
  },
  {
   "cell_type": "markdown",
   "id": "0661335f",
   "metadata": {},
   "source": [
    "example 49"
   ]
  },
  {
   "cell_type": "code",
   "execution_count": null,
   "id": "8f332863",
   "metadata": {},
   "outputs": [],
   "source": [
    "ds_redacted[49][\"secrets\"]"
   ]
  },
  {
   "cell_type": "code",
   "execution_count": null,
   "id": "8e2248f1",
   "metadata": {},
   "outputs": [],
   "source": [
    "print(\"Old text:\")\n",
    "print(ds_redacted[49][\"content\"][30:70])\n",
    "\n",
    "print(\"\\nNew text:\")\n",
    "# here the first part of the key was detected and replaced with pj82ffu65gt9sh9v8n9s2fyupslmlcq\n",
    "print(ds_redacted[49][\"new_content\"][30:70])"
   ]
  }
 ],
 "metadata": {
  "kernelspec": {
   "display_name": "pii_detection",
   "language": "python",
   "name": "python3"
  },
  "language_info": {
   "codemirror_mode": {
    "name": "ipython",
    "version": 3
   },
   "file_extension": ".py",
   "mimetype": "text/x-python",
   "name": "python",
   "nbconvert_exporter": "python",
   "pygments_lexer": "ipython3",
   "version": "3.8.13"
  },
  "vscode": {
   "interpreter": {
    "hash": "88945fe17d2a0ba741a3e38c268a5a0b6d3713cd9cb8383bf4536798be8b21fd"
   }
  }
 },
 "nbformat": 4,
 "nbformat_minor": 5
}
